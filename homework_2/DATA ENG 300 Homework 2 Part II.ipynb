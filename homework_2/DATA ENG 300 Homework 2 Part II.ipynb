{
 "cells": [
  {
   "cell_type": "code",
   "execution_count": null,
   "id": "15b0da9f-7993-456e-bb10-56c36f62cefd",
   "metadata": {},
   "outputs": [],
   "source": [
    "# I, Katie Mowry, No copies of the AWS crendentials file is stored on any publicly accessible location, \n",
    "# nor is the file in any way shared with anyone outside of DATA_ENG 300 (Spring 2025)."
   ]
  },
  {
   "cell_type": "code",
   "execution_count": 1,
   "id": "230543a3-b615-4a83-bd93-f36152316285",
   "metadata": {},
   "outputs": [
    {
     "name": "stdout",
     "output_type": "stream",
     "text": [
      "  % Total    % Received % Xferd  Average Speed   Time    Time     Time  Current\n",
      "                                 Dload  Upload   Total   Spent    Left  Speed\n",
      "100  1468  100  1468    0     0   6141      0 --:--:-- --:--:-- --:--:--  6168\n"
     ]
    }
   ],
   "source": [
    "!curl https://certs.secureserver.net/repository/sf-class2-root.crt -O"
   ]
  },
  {
   "cell_type": "code",
   "execution_count": 3,
   "id": "4da6f40c-d24d-4ba8-9992-b377b2d48f38",
   "metadata": {},
   "outputs": [
    {
     "name": "stdout",
     "output_type": "stream",
     "text": [
      "Requirement already satisfied: cassandra-sigv4 in /opt/conda/lib/python3.11/site-packages (4.0.2)\n",
      "Requirement already satisfied: cassandra-driver in /opt/conda/lib/python3.11/site-packages (from cassandra-sigv4) (3.29.2)\n",
      "Requirement already satisfied: boto3 in /opt/conda/lib/python3.11/site-packages (from cassandra-sigv4) (1.38.14)\n",
      "Requirement already satisfied: six in /opt/conda/lib/python3.11/site-packages (from cassandra-sigv4) (1.16.0)\n",
      "Requirement already satisfied: botocore<1.39.0,>=1.38.14 in /opt/conda/lib/python3.11/site-packages (from boto3->cassandra-sigv4) (1.38.14)\n",
      "Requirement already satisfied: jmespath<2.0.0,>=0.7.1 in /opt/conda/lib/python3.11/site-packages (from boto3->cassandra-sigv4) (1.0.1)\n",
      "Requirement already satisfied: s3transfer<0.13.0,>=0.12.0 in /opt/conda/lib/python3.11/site-packages (from boto3->cassandra-sigv4) (0.12.0)\n",
      "Requirement already satisfied: geomet<0.3,>=0.1 in /opt/conda/lib/python3.11/site-packages (from cassandra-driver->cassandra-sigv4) (0.2.1.post1)\n",
      "Requirement already satisfied: python-dateutil<3.0.0,>=2.1 in /opt/conda/lib/python3.11/site-packages (from botocore<1.39.0,>=1.38.14->boto3->cassandra-sigv4) (2.8.2)\n",
      "Requirement already satisfied: urllib3!=2.2.0,<3,>=1.25.4 in /opt/conda/lib/python3.11/site-packages (from botocore<1.39.0,>=1.38.14->boto3->cassandra-sigv4) (2.0.7)\n",
      "Requirement already satisfied: click in /opt/conda/lib/python3.11/site-packages (from geomet<0.3,>=0.1->cassandra-driver->cassandra-sigv4) (8.1.7)\n",
      "Note: you may need to restart the kernel to use updated packages.\n"
     ]
    }
   ],
   "source": [
    "%pip install cassandra-sigv4"
   ]
  },
  {
   "cell_type": "code",
   "execution_count": 6,
   "id": "8bbcff03-b8df-4d7c-b0f1-3594ff89ff71",
   "metadata": {},
   "outputs": [
    {
     "name": "stderr",
     "output_type": "stream",
     "text": [
      "/tmp/ipykernel_119/332746716.py:7: DeprecationWarning: ssl.PROTOCOL_TLSv1_2 is deprecated\n",
      "  ssl_context = SSLContext(PROTOCOL_TLSv1_2)\n"
     ]
    }
   ],
   "source": [
    "from cassandra.cluster import Cluster\n",
    "from ssl import SSLContext, PROTOCOL_TLSv1_2, CERT_REQUIRED\n",
    "from cassandra_sigv4.auth import SigV4AuthProvider\n",
    "import boto3\n",
    "\n",
    "# ssl setup\n",
    "ssl_context = SSLContext(PROTOCOL_TLSv1_2)\n",
    "ssl_context.load_verify_locations('sf-class2-root.crt')  # change your file path for locating the certificate\n",
    "ssl_context.verify_mode = CERT_REQUIRED\n",
    "\n",
    "# boto3 session setup\n",
    "boto_session = boto3.Session(region_name=\"us-east-2\")  # this AWS credentials is specific to `us-east-2` region"
   ]
  },
  {
   "cell_type": "code",
   "execution_count": 7,
   "id": "bfc7a483-2092-451f-839e-31d9db08a20e",
   "metadata": {},
   "outputs": [],
   "source": [
    "# authorization setup with SigV4\n",
    "auth_provider = SigV4AuthProvider(boto_session)"
   ]
  },
  {
   "cell_type": "code",
   "execution_count": 8,
   "id": "21577d36-e415-4a6a-82e5-135b78f8e2e1",
   "metadata": {},
   "outputs": [],
   "source": [
    "# authorization setup with SigV4\n",
    "auth_provider = SigV4AuthProvider(boto_session)\n",
    "#cluster setup \n",
    "cluster = Cluster(['cassandra.us-east-2.amazonaws.com'], \n",
    "                  ssl_context=ssl_context, \n",
    "                  auth_provider=auth_provider, \n",
    "                  port=9142)  # TLS only communicates on port 9142"
   ]
  },
  {
   "cell_type": "code",
   "execution_count": 9,
   "id": "05e88e02-84e8-44ff-995d-4da474b43370",
   "metadata": {},
   "outputs": [],
   "source": [
    "# establishing connection to Keyspace\n",
    "session = cluster.connect()"
   ]
  },
  {
   "cell_type": "code",
   "execution_count": 10,
   "id": "9d1183ed-3135-4b27-9751-e007fd053cf7",
   "metadata": {},
   "outputs": [
    {
     "name": "stdout",
     "output_type": "stream",
     "text": [
      "[]\n"
     ]
    }
   ],
   "source": [
    "# Creating a keyspace for HW2\n",
    "r = session.execute('''\n",
    "    CREATE KEYSPACE IF NOT EXISTS de300_homework2 \n",
    "    WITH replication = {'class': 'SingleRegionStrategy'};\n",
    "    ''')\n",
    "print(r.current_rows)"
   ]
  },
  {
   "cell_type": "code",
   "execution_count": 11,
   "id": "6657e4dd-bfe4-436f-9e21-1fc833a836b8",
   "metadata": {},
   "outputs": [
    {
     "name": "stdout",
     "output_type": "stream",
     "text": [
      "[Row(keyspace_name='system_schema', durable_writes=True, replication=OrderedMapSerializedKey([('class', 'org.apache.cassandra.locator.SimpleStrategy'), ('replication_factor', '3')])), Row(keyspace_name='system_schema_mcs', durable_writes=True, replication=OrderedMapSerializedKey([('class', 'org.apache.cassandra.locator.SimpleStrategy'), ('replication_factor', '3')])), Row(keyspace_name='system', durable_writes=True, replication=OrderedMapSerializedKey([('class', 'org.apache.cassandra.locator.SimpleStrategy'), ('replication_factor', '3')])), Row(keyspace_name='system_multiregion_info', durable_writes=True, replication=OrderedMapSerializedKey([('class', 'org.apache.cassandra.locator.SimpleStrategy'), ('replication_factor', '3')])), Row(keyspace_name='aet7207_hw2', durable_writes=True, replication=OrderedMapSerializedKey([('class', 'org.apache.cassandra.locator.SimpleStrategy'), ('replication_factor', '3')])), Row(keyspace_name='aye8078_hw2', durable_writes=True, replication=OrderedMapSerializedKey([('class', 'org.apache.cassandra.locator.SimpleStrategy'), ('replication_factor', '3')])), Row(keyspace_name='aye_DE300_demo', durable_writes=True, replication=OrderedMapSerializedKey([('class', 'org.apache.cassandra.locator.SimpleStrategy'), ('replication_factor', '3')])), Row(keyspace_name='can1469_hw02', durable_writes=True, replication=OrderedMapSerializedKey([('class', 'org.apache.cassandra.locator.SimpleStrategy'), ('replication_factor', '3')])), Row(keyspace_name='de300', durable_writes=True, replication=OrderedMapSerializedKey([('class', 'org.apache.cassandra.locator.SimpleStrategy'), ('replication_factor', '3')])), Row(keyspace_name='de300_axc4282', durable_writes=True, replication=OrderedMapSerializedKey([('class', 'org.apache.cassandra.locator.SimpleStrategy'), ('replication_factor', '3')])), Row(keyspace_name='de300_axc4282_hw2', durable_writes=True, replication=OrderedMapSerializedKey([('class', 'org.apache.cassandra.locator.SimpleStrategy'), ('replication_factor', '3')])), Row(keyspace_name='de300_demo', durable_writes=True, replication=OrderedMapSerializedKey([('class', 'org.apache.cassandra.locator.SimpleStrategy'), ('replication_factor', '3')])), Row(keyspace_name='de300_homework2', durable_writes=True, replication=OrderedMapSerializedKey([('class', 'org.apache.cassandra.locator.SimpleStrategy'), ('replication_factor', '3')])), Row(keyspace_name='de300_hw2', durable_writes=True, replication=OrderedMapSerializedKey([('class', 'org.apache.cassandra.locator.SimpleStrategy'), ('replication_factor', '3')])), Row(keyspace_name='de300_hw2_2176', durable_writes=True, replication=OrderedMapSerializedKey([('class', 'org.apache.cassandra.locator.SimpleStrategy'), ('replication_factor', '3')])), Row(keyspace_name='de300_hw2_arb4945', durable_writes=True, replication=OrderedMapSerializedKey([('class', 'org.apache.cassandra.locator.SimpleStrategy'), ('replication_factor', '3')])), Row(keyspace_name='de300_hw2_daniel', durable_writes=True, replication=OrderedMapSerializedKey([('class', 'org.apache.cassandra.locator.SimpleStrategy'), ('replication_factor', '3')])), Row(keyspace_name='de300_hw2_nkim', durable_writes=True, replication=OrderedMapSerializedKey([('class', 'org.apache.cassandra.locator.SimpleStrategy'), ('replication_factor', '3')])), Row(keyspace_name='de300_lab4', durable_writes=True, replication=OrderedMapSerializedKey([('class', 'org.apache.cassandra.locator.SimpleStrategy'), ('replication_factor', '3')])), Row(keyspace_name='de300_lrg4668', durable_writes=True, replication=OrderedMapSerializedKey([('class', 'org.apache.cassandra.locator.SimpleStrategy'), ('replication_factor', '3')])), Row(keyspace_name='de300_mkr3798', durable_writes=True, replication=OrderedMapSerializedKey([('class', 'org.apache.cassandra.locator.SimpleStrategy'), ('replication_factor', '3')])), Row(keyspace_name='de300_otl3325', durable_writes=True, replication=OrderedMapSerializedKey([('class', 'org.apache.cassandra.locator.SimpleStrategy'), ('replication_factor', '3')])), Row(keyspace_name='de300_sabian_hw2', durable_writes=True, replication=OrderedMapSerializedKey([('class', 'org.apache.cassandra.locator.SimpleStrategy'), ('replication_factor', '3')])), Row(keyspace_name='de300_sabian_hw2_part2', durable_writes=True, replication=OrderedMapSerializedKey([('class', 'org.apache.cassandra.locator.SimpleStrategy'), ('replication_factor', '3')])), Row(keyspace_name='de300_sabian_lab4', durable_writes=True, replication=OrderedMapSerializedKey([('class', 'org.apache.cassandra.locator.SimpleStrategy'), ('replication_factor', '3')])), Row(keyspace_name='de300_ttk6623', durable_writes=True, replication=OrderedMapSerializedKey([('class', 'org.apache.cassandra.locator.SimpleStrategy'), ('replication_factor', '3')])), Row(keyspace_name='dlw8642_de300_hw2', durable_writes=True, replication=OrderedMapSerializedKey([('class', 'org.apache.cassandra.locator.SimpleStrategy'), ('replication_factor', '3')])), Row(keyspace_name='dse300_lab1', durable_writes=True, replication=OrderedMapSerializedKey([('class', 'org.apache.cassandra.locator.SimpleStrategy'), ('replication_factor', '3')])), Row(keyspace_name='dse300_lab4', durable_writes=True, replication=OrderedMapSerializedKey([('class', 'org.apache.cassandra.locator.SimpleStrategy'), ('replication_factor', '3')])), Row(keyspace_name='eks6660_hw2', durable_writes=True, replication=OrderedMapSerializedKey([('class', 'org.apache.cassandra.locator.SimpleStrategy'), ('replication_factor', '3')])), Row(keyspace_name='homework2', durable_writes=True, replication=OrderedMapSerializedKey([('class', 'org.apache.cassandra.locator.SimpleStrategy'), ('replication_factor', '3')])), Row(keyspace_name='ijz4060_hw2', durable_writes=True, replication=OrderedMapSerializedKey([('class', 'org.apache.cassandra.locator.SimpleStrategy'), ('replication_factor', '3')])), Row(keyspace_name='kyan_shlipak_hw2', durable_writes=True, replication=OrderedMapSerializedKey([('class', 'org.apache.cassandra.locator.SimpleStrategy'), ('replication_factor', '3')])), Row(keyspace_name='mimic', durable_writes=True, replication=OrderedMapSerializedKey([('class', 'org.apache.cassandra.locator.SimpleStrategy'), ('replication_factor', '3')])), Row(keyspace_name='mrs8185_hw2', durable_writes=True, replication=OrderedMapSerializedKey([('class', 'org.apache.cassandra.locator.SimpleStrategy'), ('replication_factor', '3')])), Row(keyspace_name='new2713', durable_writes=True, replication=OrderedMapSerializedKey([('class', 'org.apache.cassandra.locator.SimpleStrategy'), ('replication_factor', '3')])), Row(keyspace_name='part1', durable_writes=True, replication=OrderedMapSerializedKey([('class', 'org.apache.cassandra.locator.SimpleStrategy'), ('replication_factor', '3')])), Row(keyspace_name='part2cassandra', durable_writes=True, replication=OrderedMapSerializedKey([('class', 'org.apache.cassandra.locator.SimpleStrategy'), ('replication_factor', '3')])), Row(keyspace_name='ryan_beam', durable_writes=True, replication=OrderedMapSerializedKey([('class', 'org.apache.cassandra.locator.SimpleStrategy'), ('replication_factor', '3')])), Row(keyspace_name='seeley_hw2', durable_writes=True, replication=OrderedMapSerializedKey([('class', 'org.apache.cassandra.locator.SimpleStrategy'), ('replication_factor', '3')])), Row(keyspace_name='ueb9720_hw2', durable_writes=True, replication=OrderedMapSerializedKey([('class', 'org.apache.cassandra.locator.SimpleStrategy'), ('replication_factor', '3')]))]\n"
     ]
    }
   ],
   "source": [
    "r = session.execute('''\n",
    "    SELECT * FROM system_schema.keyspaces;\n",
    "    ''')\n",
    "print(r.current_rows) "
   ]
  },
  {
   "cell_type": "code",
   "execution_count": 49,
   "id": "1d68c51a-aae8-4770-9cbe-590381040c7a",
   "metadata": {},
   "outputs": [],
   "source": [
    "from cassandra.cluster import ExecutionProfile, EXEC_PROFILE_DEFAULT\n",
    "from cassandra import ConsistencyLevel\n",
    "\n",
    "\n",
    "# Define execution profile with LOCAL_QUORUM\n",
    "execution_profile = ExecutionProfile(\n",
    "    consistency_level=ConsistencyLevel.LOCAL_QUORUM\n",
    ")\n",
    "\n",
    "# Cluster setup with correct profile\n",
    "cluster = Cluster(\n",
    "    ['cassandra.us-east-2.amazonaws.com'],\n",
    "    ssl_context=ssl_context,\n",
    "    auth_provider=auth_provider,\n",
    "    port=9142,\n",
    "    execution_profiles={EXEC_PROFILE_DEFAULT: execution_profile}\n",
    ")\n",
    "\n",
    "# establishing connection to Keyspace\n",
    "session = cluster.connect()\n",
    "session.set_keyspace('de300_homework2') "
   ]
  },
  {
   "cell_type": "code",
   "execution_count": 35,
   "id": "57da3e9f-c0fe-47b7-829f-6e8ad8e61853",
   "metadata": {},
   "outputs": [],
   "source": [
    "import pandas as pd\n",
    "df_usage = pd.read_csv('drug_usage_raw.csv')"
   ]
  },
  {
   "cell_type": "code",
   "execution_count": 28,
   "id": "e4c02d25-9dd9-411f-80da-c14bf599113c",
   "metadata": {},
   "outputs": [
    {
     "data": {
      "text/plain": [
       "<cassandra.cluster.ResultSet at 0x7bc0ac06a9d0>"
      ]
     },
     "execution_count": 28,
     "metadata": {},
     "output_type": "execute_result"
    }
   ],
   "source": [
    "import uuid\n",
    "\n",
    "session.execute(\"\"\"\n",
    "CREATE TABLE IF NOT EXISTS drug_types_2 (\n",
    "        ethnicity text,\n",
    "        drug_type text,\n",
    "        insert_id uuid,\n",
    "        PRIMARY KEY ((ethnicity, drug_type), insert_id))\n",
    "\"\"\")"
   ]
  },
  {
   "cell_type": "code",
   "execution_count": 29,
   "id": "be4bcb47-0ad9-46c3-b16f-74e055e9e976",
   "metadata": {},
   "outputs": [],
   "source": [
    "from cassandra.query import SimpleStatement\n",
    "\n",
    "for row in df_usage.itertuples(index=False):\n",
    "    session.execute(\"\"\"\n",
    "        INSERT INTO drug_types_2 (ethnicity, drug_type, insert_id)\n",
    "        VALUES (%s, %s, %s)\n",
    "    \"\"\", (row.ethnicity, row.drug_type, uuid.uuid4()))"
   ]
  },
  {
   "cell_type": "code",
   "execution_count": 32,
   "id": "0fde7b23-fc86-4195-8f50-e32765c4ba7b",
   "metadata": {},
   "outputs": [
    {
     "name": "stdout",
     "output_type": "stream",
     "text": [
      "                                           ethnicity drug_type  drug_amount\n",
      "0                                              WHITE      MAIN         5420\n",
      "1                     HISPANIC/LATINO - PUERTO RICAN      MAIN          860\n",
      "2                             BLACK/AFRICAN AMERICAN      MAIN          476\n",
      "3                              UNKNOWN/NOT SPECIFIED      MAIN          245\n",
      "4                                 HISPANIC OR LATINO      MAIN          226\n",
      "5  AMERICAN INDIAN/ALASKA NATIVE FEDERALLY RECOGN...      MAIN          200\n",
      "6                                              ASIAN      MAIN          121\n",
      "7                                   UNABLE TO OBTAIN      MAIN           89\n",
      "8                                              OTHER      MAIN           72\n"
     ]
    }
   ],
   "source": [
    "rows = session.execute(\"SELECT ethnicity, drug_type FROM drug_types_2\")\n",
    "df_cassandra = pd.DataFrame(rows)\n",
    "\n",
    "df_summary = df_cassandra.groupby(['ethnicity', 'drug_type']).size().reset_index(name='drug_amount')\n",
    "\n",
    "top_drugs = (df_summary.sort_values(['ethnicity', 'drug_amount'], ascending=[True, False])\n",
    "    .groupby('ethnicity')\n",
    "    .head(1)\n",
    "    .sort_values('drug_amount', ascending=False)\n",
    "    .reset_index(drop=True)\n",
    ")\n",
    "\n",
    "print(top_drugs)"
   ]
  },
  {
   "cell_type": "code",
   "execution_count": 38,
   "id": "04f34b76-6c55-42e5-9f03-ebe6643efe8b",
   "metadata": {},
   "outputs": [
    {
     "data": {
      "text/html": [
       "<div>\n",
       "<style scoped>\n",
       "    .dataframe tbody tr th:only-of-type {\n",
       "        vertical-align: middle;\n",
       "    }\n",
       "\n",
       "    .dataframe tbody tr th {\n",
       "        vertical-align: top;\n",
       "    }\n",
       "\n",
       "    .dataframe thead th {\n",
       "        text-align: right;\n",
       "    }\n",
       "</style>\n",
       "<table border=\"1\" class=\"dataframe\">\n",
       "  <thead>\n",
       "    <tr style=\"text-align: right;\">\n",
       "      <th></th>\n",
       "      <th>short_title</th>\n",
       "      <th>age</th>\n",
       "    </tr>\n",
       "  </thead>\n",
       "  <tbody>\n",
       "    <tr>\n",
       "      <th>0</th>\n",
       "      <td>PTCA</td>\n",
       "      <td>300</td>\n",
       "    </tr>\n",
       "    <tr>\n",
       "      <th>1</th>\n",
       "      <td>Transplant cadaver donor</td>\n",
       "      <td>44</td>\n",
       "    </tr>\n",
       "    <tr>\n",
       "      <th>2</th>\n",
       "      <td>Other brain dx procedure</td>\n",
       "      <td>20</td>\n",
       "    </tr>\n",
       "    <tr>\n",
       "      <th>3</th>\n",
       "      <td>Adm inhal nitric oxide</td>\n",
       "      <td>44</td>\n",
       "    </tr>\n",
       "    <tr>\n",
       "      <th>4</th>\n",
       "      <td>Inject/infus nesiritide</td>\n",
       "      <td>44</td>\n",
       "    </tr>\n",
       "  </tbody>\n",
       "</table>\n",
       "</div>"
      ],
      "text/plain": [
       "                short_title  age\n",
       "0                      PTCA  300\n",
       "1  Transplant cadaver donor   44\n",
       "2  Other brain dx procedure   20\n",
       "3    Adm inhal nitric oxide   44\n",
       "4   Inject/infus nesiritide   44"
      ]
     },
     "execution_count": 38,
     "metadata": {},
     "output_type": "execute_result"
    }
   ],
   "source": [
    "age_groups = pd.read_csv(\"df_age_groups_nosql.csv\")\n",
    "age_groups.head()"
   ]
  },
  {
   "cell_type": "code",
   "execution_count": null,
   "id": "bc835bd9-8436-4c79-b668-dfbaf5fb6dad",
   "metadata": {},
   "outputs": [],
   "source": [
    "# Question 2"
   ]
  },
  {
   "cell_type": "code",
   "execution_count": 39,
   "id": "3d565ef8-79b2-40da-a340-5fe3ada3baf6",
   "metadata": {},
   "outputs": [
    {
     "data": {
      "text/plain": [
       "<cassandra.cluster.ResultSet at 0x7bc0aadf4710>"
      ]
     },
     "execution_count": 39,
     "metadata": {},
     "output_type": "execute_result"
    }
   ],
   "source": [
    "session.execute(\"\"\"\n",
    "CREATE TABLE IF NOT EXISTS age_groups_2 (\n",
    "    age int,\n",
    "    short_title text,\n",
    "    insert_id uuid,\n",
    "    PRIMARY KEY ((age, short_title), insert_id)\n",
    ")\n",
    "\"\"\")"
   ]
  },
  {
   "cell_type": "code",
   "execution_count": 40,
   "id": "982209d0-b13e-4870-b567-89ee8bda1a67",
   "metadata": {},
   "outputs": [],
   "source": [
    "for row in age_groups.itertuples(index=False):\n",
    "    session.execute(\"\"\"\n",
    "        INSERT INTO age_groups_2 (age, short_title, insert_id)\n",
    "        VALUES (%s, %s, %s)\n",
    "    \"\"\", (row.age, row.short_title, uuid.uuid4()))"
   ]
  },
  {
   "cell_type": "code",
   "execution_count": 41,
   "id": "bf12f36a-87f3-4d72-9a16-42ce5c092e18",
   "metadata": {},
   "outputs": [],
   "source": [
    "rows = session.execute(\"SELECT age, short_title FROM age_groups_2\")\n",
    "age_groups_2_df = pd.DataFrame(rows)"
   ]
  },
  {
   "cell_type": "code",
   "execution_count": 43,
   "id": "f88a432a-511d-4942-996b-626ef65c550b",
   "metadata": {},
   "outputs": [
    {
     "name": "stdout",
     "output_type": "stream",
     "text": [
      "   age_group               short_title  procedure_count\n",
      "0       0–19           Venous cath NEC                2\n",
      "1       0–19  Applic ext fix dev-femur                1\n",
      "2       0–19         Atlas-axis fusion                1\n",
      "3      20–49           Venous cath NEC                9\n",
      "4      20–49   Entral infus nutrit sub                7\n",
      "5      20–49  Cont inv mec ven 96+ hrs                6\n",
      "6      50–79           Venous cath NEC               25\n",
      "7      50–79   Entral infus nutrit sub               22\n",
      "8      50–79   Packed cell transfusion               13\n",
      "9        >80           Venous cath NEC               20\n",
      "10       >80   Packed cell transfusion               13\n",
      "11       >80  Insert endotracheal tube                8\n"
     ]
    }
   ],
   "source": [
    "def assign_age_group(age):\n",
    "    if age <= 19:\n",
    "        return '0–19'\n",
    "    elif age <= 49:\n",
    "        return '20–49'\n",
    "    elif age <= 79:\n",
    "        return '50–79'\n",
    "    else:\n",
    "        return '>80'\n",
    "\n",
    "# Assigning the age groups\n",
    "age_groups_2_df[\"age_group\"] = age_groups_2_df[\"age\"].apply(assign_age_group)\n",
    "\n",
    "summary = age_groups_2_df.groupby([\"age_group\", \"short_title\"]).size().reset_index(name=\"procedure_count\")\n",
    "\n",
    "top3_procedures = (\n",
    "    summary.sort_values([\"age_group\", \"procedure_count\"], ascending=[True, False])\n",
    "    .groupby(\"age_group\")\n",
    "    .head(3)\n",
    "    .reset_index(drop=True)\n",
    ")\n",
    "print(top3_procedures)\n"
   ]
  },
  {
   "cell_type": "code",
   "execution_count": 50,
   "id": "817ad706-b996-4919-97ed-38a5940ac6f7",
   "metadata": {},
   "outputs": [],
   "source": [
    "ICU_stays = pd.read_csv(\"ICU_stay_nosql.csv\")"
   ]
  },
  {
   "cell_type": "code",
   "execution_count": 51,
   "id": "8422b198-2310-4ade-8b05-f234e53b5b54",
   "metadata": {},
   "outputs": [
    {
     "data": {
      "text/plain": [
       "<cassandra.cluster.ResultSet at 0x7bc0ab878e50>"
      ]
     },
     "execution_count": 51,
     "metadata": {},
     "output_type": "execute_result"
    }
   ],
   "source": [
    "session.execute(\"\"\"\n",
    "CREATE TABLE IF NOT EXISTS icu_stays_2 (\n",
    "    gender text,\n",
    "    ethnicity text,\n",
    "    icu_length_of_stay float,\n",
    "    insert_id uuid,\n",
    "    PRIMARY KEY ((gender, ethnicity), insert_id)\n",
    ")\n",
    "\"\"\")"
   ]
  },
  {
   "cell_type": "code",
   "execution_count": 52,
   "id": "f2b781d7-14f0-41dc-bf68-208700453218",
   "metadata": {},
   "outputs": [],
   "source": [
    "for row in ICU_stays.itertuples(index=False):\n",
    "    session.execute(\"\"\"\n",
    "    INSERT INTO icu_stays_2 (gender, ethnicity, icu_length_of_stay, insert_id)\n",
    "    VALUES (%s, %s, %s, %s)\n",
    "    \"\"\", (row.gender, row.ethnicity, row.icu_length_of_stay, uuid.uuid4()))"
   ]
  },
  {
   "cell_type": "code",
   "execution_count": 53,
   "id": "cadb3c93-f8af-427b-9812-fdcc515873ff",
   "metadata": {},
   "outputs": [],
   "source": [
    "rows = session.execute(\"SELECT gender, ethnicity, icu_length_of_stay FROM icu_stays_2\")\n",
    "df_cassandra = pd.DataFrame(rows)"
   ]
  },
  {
   "cell_type": "code",
   "execution_count": 57,
   "id": "909bce6b-8d69-4fef-aaff-12314e5b190f",
   "metadata": {},
   "outputs": [
    {
     "name": "stdout",
     "output_type": "stream",
     "text": [
      "            mean       std  median\n",
      "gender                            \n",
      "F       5.540635  7.818025    2.41\n",
      "M       3.513973  4.176268    1.93\n",
      "                                                         mean        std  \\\n",
      "ethnicity                                                                  \n",
      "AMERICAN INDIAN/ALASKA NATIVE FEDERALLY RECOGNI...  11.335000  14.248202   \n",
      "ASIAN                                                3.890000   4.567910   \n",
      "BLACK/AFRICAN AMERICAN                               7.675714  10.920249   \n",
      "HISPANIC OR LATINO                                   7.463333   6.579912   \n",
      "HISPANIC/LATINO - PUERTO RICAN                       3.244000   3.259647   \n",
      "OTHER                                                0.926667   0.911501   \n",
      "UNABLE TO OBTAIN                                    13.360000        NaN   \n",
      "UNKNOWN/NOT SPECIFIED                                4.924546   4.820200   \n",
      "WHITE                                                4.130870   6.139099   \n",
      "\n",
      "                                                    median  \n",
      "ethnicity                                                   \n",
      "AMERICAN INDIAN/ALASKA NATIVE FEDERALLY RECOGNI...  11.335  \n",
      "ASIAN                                                3.890  \n",
      "BLACK/AFRICAN AMERICAN                               3.970  \n",
      "HISPANIC OR LATINO                                   3.780  \n",
      "HISPANIC/LATINO - PUERTO RICAN                       2.080  \n",
      "OTHER                                                0.760  \n",
      "UNABLE TO OBTAIN                                    13.360  \n",
      "UNKNOWN/NOT SPECIFIED                                2.650  \n",
      "WHITE                                                1.985  \n"
     ]
    }
   ],
   "source": [
    "print(df_cassandra.groupby(\"gender\")[\"icu_length_of_stay\"].agg([\"mean\", \"std\", \"median\"]))\n",
    "print(df_cassandra.groupby(\"ethnicity\")[\"icu_length_of_stay\"].agg([\"mean\", \"std\", \"median\"]))"
   ]
  },
  {
   "cell_type": "code",
   "execution_count": 58,
   "id": "81a10e64-e929-47fc-aad5-046edd0ae322",
   "metadata": {},
   "outputs": [
    {
     "data": {
      "image/png": "[encoded data removed]",
      "text/plain": [
       "<Figure size 640x480 with 1 Axes>"
      ]
     },
     "metadata": {},
     "output_type": "display_data"
    },
    {
     "data": {
      "image/png": "[encoded data removed]",
      "text/plain": [
       "<Figure size 640x480 with 1 Axes>"
      ]
     },
     "metadata": {},
     "output_type": "display_data"
    }
   ],
   "source": [
    "import seaborn as sns\n",
    "import matplotlib.pyplot as plt\n",
    "\n",
    "sns.boxplot(data=df_cassandra, x=\"gender\", y=\"icu_length_of_stay\")\n",
    "plt.title(\"ICU Length of Stay by Gender\")\n",
    "plt.ylabel(\"Length of Stay (days)\")\n",
    "plt.xlabel(\"Gender\")\n",
    "plt.show()\n",
    "\n",
    "sns.boxplot(data=df_cassandra, x=\"ethnicity\", y=\"icu_length_of_stay\")\n",
    "plt.xticks(rotation=90)\n",
    "plt.title(\"ICU Length of Stay by Ethnicity\")\n",
    "plt.ylabel(\"Length of Stay (days)\")\n",
    "plt.xlabel(\"Ethnicity\")\n",
    "plt.show()"
   ]
  }
 ],
 "metadata": {
  "kernelspec": {
   "display_name": "Python 3 (ipykernel)",
   "language": "python",
   "name": "python3"
  },
  "language_info": {
   "codemirror_mode": {
    "name": "ipython",
    "version": 3
   },
   "file_extension": ".py",
   "mimetype": "text/x-python",
   "name": "python",
   "nbconvert_exporter": "python",
   "pygments_lexer": "ipython3",
   "version": "3.11.6"
  }
 },
 "nbformat": 4,
 "nbformat_minor": 5
}
